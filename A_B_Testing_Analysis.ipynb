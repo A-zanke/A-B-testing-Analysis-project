{
  "nbformat": 4,
  "nbformat_minor": 0,
  "metadata": {
    "colab": {
      "provenance": [],
      "authorship_tag": "ABX9TyOP1rq9n8Hag5ShayJHo0OA",
      "include_colab_link": true
    },
    "kernelspec": {
      "name": "python3",
      "display_name": "Python 3"
    },
    "language_info": {
      "name": "python"
    }
  },
  "cells": [
    {
      "cell_type": "markdown",
      "metadata": {
        "id": "view-in-github",
        "colab_type": "text"
      },
      "source": [
        "<a href=\"https://colab.research.google.com/github/A-zanke/A-B-testing-Analysis-project/blob/main/A_B_Testing_Analysis.ipynb\" target=\"_parent\"><img src=\"https://colab.research.google.com/assets/colab-badge.svg\" alt=\"Open In Colab\"/></a>"
      ]
    },
    {
      "cell_type": "code",
      "source": [
        "import numpy as np\n",
        "import pandas as pd\n",
        "import matplotlib.pyplot as plt\n",
        "import seaborn as sns\n",
        "from scipy import stats\n",
        "\n",
        "#Randomize and Assign\n",
        "# Simulate data for control and treatment groups\n",
        "np.random.seed(42)  # For reproducibility\n",
        "control_group = np.random.binomial(n=1, p=0.2, size=1000)  # Control group with a 20% click-through rate\n",
        "treatment_group = np.random.binomial(n=1, p=0.12, size=1000)  # Treatment group with a 12% click-through rate\n",
        "\n"
      ],
      "metadata": {
        "id": "Ww7xb_ZZoiBk"
      },
      "execution_count": 28,
      "outputs": []
    },
    {
      "cell_type": "code",
      "source": [
        "# Create a DataFrame for easier handling\n",
        "data = pd.DataFrame({\n",
        "    'group': ['control'] * 1000 + ['treatment'] * 1000,\n",
        "    'click': np.concatenate([control_group, treatment_group])\n",
        "})\n",
        "\n"
      ],
      "metadata": {
        "id": "6ODHb_RWqO89"
      },
      "execution_count": 20,
      "outputs": []
    },
    {
      "cell_type": "code",
      "source": [
        "# Exploratory Data Analysis (EDA)\n",
        "# Visualize the click-through rates\n",
        "sns.barplot(x='group', y='click', data=data, errorbar='sd')\n",
        "plt.title('Click-through Rates by Group')\n",
        "plt.ylabel('Click-through Rate')\n",
        "plt.show()\n",
        "\n"
      ],
      "metadata": {
        "colab": {
          "base_uri": "https://localhost:8080/",
          "height": 472
        },
        "id": "H8_CC9cmqYdH",
        "outputId": "888101ed-4c06-48a6-f9cc-363b589864ff"
      },
      "execution_count": 29,
      "outputs": [
        {
          "output_type": "display_data",
          "data": {
            "text/plain": [
              "<Figure size 640x480 with 1 Axes>"
            ],
            "image/png": "[encoded data removed]"
          },
          "metadata": {}
        }
      ]
    },
    {
      "cell_type": "code",
      "source": [
        "# Calculate summary statistics\n",
        "summary_stats = data.groupby('group')['click'].agg(['mean', 'std', 'count']).reset_index()\n",
        "print(summary_stats)\n",
        "\n"
      ],
      "metadata": {
        "colab": {
          "base_uri": "https://localhost:8080/"
        },
        "id": "V8NLHA1VqefL",
        "outputId": "17624233-db8a-4f12-f487-76d66cc8e44c"
      },
      "execution_count": 22,
      "outputs": [
        {
          "output_type": "stream",
          "name": "stdout",
          "text": [
            "       group   mean       std  count\n",
            "0    control  0.199  0.399448   1000\n",
            "1  treatment  0.112  0.315524   1000\n"
          ]
        }
      ]
    },
    {
      "cell_type": "code",
      "source": [
        "# Statistical Analysis\n",
        "# Perform two-sample t-test\n",
        "t_statistic, p_value = stats.ttest_ind(control_group, treatment_group)\n",
        "\n",
        "# Print t-test results\n",
        "print(f\"T-statistic: {t_statistic}\")\n",
        "print(f\"P-value: {p_value}\")\n",
        "\n"
      ],
      "metadata": {
        "colab": {
          "base_uri": "https://localhost:8080/"
        },
        "id": "26d-zXDMqlLV",
        "outputId": "5ed04e4d-567d-436a-db2a-78d641f08329"
      },
      "execution_count": 23,
      "outputs": [
        {
          "output_type": "stream",
          "name": "stdout",
          "text": [
            "T-statistic: 5.404726447510271\n",
            "P-value: 7.266491408808736e-08\n"
          ]
        }
      ]
    },
    {
      "cell_type": "code",
      "source": [
        "# Interpret Results\n",
        "alpha = 0.05  # Significance level\n",
        "if p_value < alpha:\n",
        "    print(\"Reject null hypothesis: There is a significant difference between the groups.\")\n",
        "else:\n",
        "    print(\"Fail to reject null hypothesis: There is no significant difference between the groups.\")\n",
        "\n"
      ],
      "metadata": {
        "colab": {
          "base_uri": "https://localhost:8080/"
        },
        "id": "myUDCI3iqqrA",
        "outputId": "2754358f-87bf-4839-c856-a2a5fac658c3"
      },
      "execution_count": 24,
      "outputs": [
        {
          "output_type": "stream",
          "name": "stdout",
          "text": [
            "Reject null hypothesis: There is a significant difference between the groups.\n"
          ]
        }
      ]
    },
    {
      "cell_type": "code",
      "source": [
        "# Make Recommendations\n",
        "if np.mean(treatment_group) > np.mean(control_group):\n",
        "    recommendation = \"The treatment group has a higher click-through rate than the control group.\\nRecommendation: Implement the new ad design.\"\n",
        "else:\n",
        "    recommendation = \"The treatment group does not have a higher click-through rate than the control group.\\nRecommendation: Stick with the current ad design.\"\n",
        "\n",
        "print(recommendation)\n",
        "\n"
      ],
      "metadata": {
        "colab": {
          "base_uri": "https://localhost:8080/"
        },
        "id": "2rrronQkqwRm",
        "outputId": "55f01b1a-ff9a-4323-9c7a-12ff95af0dd2"
      },
      "execution_count": 25,
      "outputs": [
        {
          "output_type": "stream",
          "name": "stdout",
          "text": [
            "The treatment group does not have a higher click-through rate than the control group.\n",
            "Recommendation: Stick with the current ad design.\n"
          ]
        }
      ]
    },
    {
      "cell_type": "code",
      "source": [
        "# Additional Analysis: Effect Size\n",
        "# Calculate Cohen's d for practical significance\n",
        "mean_diff = np.mean(treatment_group) - np.mean(control_group)\n",
        "pooled_std = np.sqrt((np.std(control_group, ddof=1) ** 2 + np.std(treatment_group, ddof=1) ** 2) / 2)\n",
        "cohens_d = mean_diff / pooled_std\n",
        "print(f\"Cohen's d: {cohens_d}\")\n",
        "\n"
      ],
      "metadata": {
        "colab": {
          "base_uri": "https://localhost:8080/"
        },
        "id": "2c7RqygZq03G",
        "outputId": "883bb149-2054-43ad-c92f-911b21e2ac23"
      },
      "execution_count": 26,
      "outputs": [
        {
          "output_type": "stream",
          "name": "stdout",
          "text": [
            "Cohen's d: -0.24170671472847832\n"
          ]
        }
      ]
    },
    {
      "cell_type": "code",
      "source": [
        "# Practical significance interpretation\n",
        "if cohens_d > 0.2:\n",
        "    print(\"The effect size is small but practically significant.\")\n",
        "elif cohens_d > 0.5:\n",
        "    print(\"The effect size is medium and practically significant.\")\n",
        "elif cohens_d > 0.8:\n",
        "    print(\"The effect size is large and practically significant.\")\n",
        "else:\n",
        "    print(\"The effect size is negligible.\")\n"
      ],
      "metadata": {
        "colab": {
          "base_uri": "https://localhost:8080/"
        },
        "id": "xbZg02Mzq4wj",
        "outputId": "b263e2b1-bd34-457e-b0db-1c48f63813fe"
      },
      "execution_count": 27,
      "outputs": [
        {
          "output_type": "stream",
          "name": "stdout",
          "text": [
            "The effect size is negligible.\n"
          ]
        }
      ]
    }
  ]
}